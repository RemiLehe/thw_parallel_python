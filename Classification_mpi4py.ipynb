{
 "cells": [
  {
   "cell_type": "code",
   "execution_count": null,
   "metadata": {
    "collapsed": true
   },
   "outputs": [],
   "source": [
    "%%file parallel_script.py\n",
    "\n",
    "from classification import nearest_neighbor_prediction\n",
    "import numpy as np\n",
    "from mpi4py.MPI import COMM_WORLD as communicator\n",
    "\n",
    "# Load data\n",
    "train_images = np.load('./data/train_images.npy')\n",
    "train_labels = np.load('./data/train_labels.npy')\n",
    "test_images = np.load('./data/test_images.npy')\n",
    "\n",
    "# Use only the data that this rank needs\n",
    "N_test = len(test_images)\n",
    "if communicator.rank == 0:\n",
    "    i_start = 0\n",
    "    i_end = N_test/2\n",
    "elif communicator.rank == 1:\n",
    "    i_start = N_test/2\n",
    "    i_end = N_test    \n",
    "test_images = test_images[i_start:i_end]\n",
    "\n",
    "# Predict the results and save it to a file\n",
    "test_labels = nearest_neighbor_prediction( test_images, train_images, train_labels )\n",
    "np.save('./data/test_labels_parallel_%d.npy' %communicator.rank, test_labels )"
   ]
  },
  {
   "cell_type": "code",
   "execution_count": null,
   "metadata": {
    "collapsed": true
   },
   "outputs": [],
   "source": [
    "%time !mpirun -np 2 python parallel_script.py"
   ]
  }
 ],
 "metadata": {
  "kernelspec": {
   "display_name": "Python 2",
   "language": "python",
   "name": "python2"
  },
  "language_info": {
   "codemirror_mode": {
    "name": "ipython",
    "version": 2
   },
   "file_extension": ".py",
   "mimetype": "text/x-python",
   "name": "python",
   "nbconvert_exporter": "python",
   "pygments_lexer": "ipython2",
   "version": "2.7.12"
  }
 },
 "nbformat": 4,
 "nbformat_minor": 1
}
