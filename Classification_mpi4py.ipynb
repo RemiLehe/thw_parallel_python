{
 "cells": [
  {
   "cell_type": "code",
   "execution_count": null,
   "metadata": {
    "collapsed": false
   },
   "outputs": [],
   "source": [
    "import numpy as np\n",
    "import matplotlib.pyplot as plt\n",
    "%matplotlib inline"
   ]
  },
  {
   "cell_type": "markdown",
   "metadata": {},
   "source": [
    "# Introduction to MPI and `mpi4py`\n",
    "\n",
    "MPI stands for Message Passing Interface. It is a **library** that allows to:\n",
    "- **spawn** several processes \n",
    "- **adress** them individually\n",
    "- have them **communicate** between them\n",
    "\n",
    "MPI can be used in many languages (C, C++, Fortran), and is extensively used in High-Performance Computing.  \n",
    "`mpi4py` is the Python interface to MPI.\n",
    "\n",
    "### Installation\n",
    "\n",
    "```\n",
    "conda install -c conda-forge mpi4py\n",
    "```\n",
    "(The standard Anaconda channel for mpi4py is [broken](https://github.com/conda/conda/issues/2277). It is necessary to use the [conda-forge](https://conda-forge.github.io/) channel instead.)\n",
    "\n",
    "### Example\n",
    "\n",
    "Let us try to get a feeling on how `mpi4py` works by looking at the example below:"
   ]
  },
  {
   "cell_type": "code",
   "execution_count": null,
   "metadata": {
    "collapsed": false
   },
   "outputs": [],
   "source": [
    "%%file example.py\n",
    "\n",
    "from mpi4py.MPI import COMM_WORLD as communicator\n",
    "import random\n",
    "\n",
    "# Draw one random integer between 0 and 100\n",
    "i = random.randint(0, 100)\n",
    "print('Rank %d' %communicator.rank + ' drew a random integer: %d' %i )\n",
    "\n",
    "# Gather the results\n",
    "integer_list = communicator.gather( i, root=0 )\n",
    "if communicator.rank == 0:\n",
    "    print('\\nRank 0 gathered the results:')\n",
    "    print(integer_list)"
   ]
  },
  {
   "cell_type": "code",
   "execution_count": null,
   "metadata": {
    "collapsed": false
   },
   "outputs": [],
   "source": [
    "! mpirun -np 3 python example.py"
   ]
  },
  {
   "cell_type": "markdown",
   "metadata": {},
   "source": [
    "### What happened?\n",
    "\n",
    "- \"`mpirun -np 3`\" spawns 3 processes.\n",
    "\n",
    "- **All processes execute the same code.** (In this case, they all execute the same Python script: `example.py`.)\n",
    "\n",
    "- Each process gets a **unique identification number** (`communicator.rank`).\n",
    "\n",
    "- **Based on this identifier** and e.g. **on `if` statements**, the different processes can be **addressed individually**, and perform different work.\n",
    "\n",
    "- MPI provides functions (like `communicator.gather`) that allow processes to **communicate** data (even between **different nodes**).\n",
    "\n",
    "NB: There are many other communication functions, e.g.:\n",
    "- one-to-one communication (`send`, `receive`, `isend`, `ireceive`)\n",
    "- all-to-one communication (`gather`, `reduce`)\n",
    "- one-to-all communication (`scatter`, `broadcast`)\n",
    "- all-to-all (`allgather`, `allreduce`)\n",
    "\n",
    "See the [mpi4py documentation](https://mpi4py.readthedocs.io/en/stable/) for more information."
   ]
  },
  {
   "cell_type": "markdown",
   "metadata": {},
   "source": [
    "----\n",
    "# Digit classification with `mpi4py`\n",
    "\n",
    "## On two processes"
   ]
  },
  {
   "cell_type": "code",
   "execution_count": null,
   "metadata": {
    "collapsed": false
   },
   "outputs": [],
   "source": [
    "%%file parallel_script.py\n",
    "\n",
    "from classification import nearest_neighbor_prediction\n",
    "import numpy as np\n",
    "from mpi4py.MPI import COMM_WORLD as communicator\n",
    "\n",
    "# Load data\n",
    "train_images = np.load('./data/train_images.npy')\n",
    "train_labels = np.load('./data/train_labels.npy')\n",
    "test_images = np.load('./data/test_images.npy')\n",
    "\n",
    "# Use only the data that this rank needs\n",
    "N_test = len(test_images)\n",
    "if communicator.rank == 0:\n",
    "    i_start = 0\n",
    "    i_end = N_test/2\n",
    "elif communicator.rank == 1:\n",
    "    i_start = N_test/2\n",
    "    i_end = N_test    \n",
    "small_test_images = test_images[i_start:i_end]\n",
    "\n",
    "# Predict the results and gather it on rank 0\n",
    "small_test_labels = nearest_neighbor_prediction(small_test_images, train_images, train_labels)\n",
    "test_labels_list = communicator.gather( small_test_labels, root=0 )\n",
    "\n",
    "# Rank 0 merges the results into one array and saves them to a file\n",
    "if communicator.rank == 0:\n",
    "    test_labels = np.hstack( test_labels_list )\n",
    "    np.save('./data/test_labels_parallel.npy', test_labels )"
   ]
  },
  {
   "cell_type": "code",
   "execution_count": null,
   "metadata": {
    "collapsed": false
   },
   "outputs": [],
   "source": [
    "%%time\n",
    "! mpirun -np 2 python parallel_script.py"
   ]
  },
  {
   "cell_type": "markdown",
   "metadata": {},
   "source": [
    "## On more processes"
   ]
  },
  {
   "cell_type": "code",
   "execution_count": null,
   "metadata": {
    "collapsed": true
   },
   "outputs": [],
   "source": [
    "import numpy as np"
   ]
  },
  {
   "cell_type": "code",
   "execution_count": null,
   "metadata": {
    "collapsed": false
   },
   "outputs": [],
   "source": [
    "# Load and split the set of test images\n",
    "test_images = np.load('data/test_images.npy')\n",
    "split_arrays = np.array_split( test_images, 4 )\n",
    "\n",
    "# Print the corresponding shape\n",
    "print( 'Shape of the original array:' )\n",
    "print( test_images.shape )\n",
    "print('Shape of the splitted arrays:')\n",
    "for array in split_arrays:\n",
    "    print( array.shape )"
   ]
  },
  {
   "cell_type": "code",
   "execution_count": null,
   "metadata": {
    "collapsed": false
   },
   "outputs": [],
   "source": [
    "%%file parallel_script.py\n",
    "\n",
    "from classification import nearest_neighbor_prediction\n",
    "import numpy as np\n",
    "from mpi4py.MPI import COMM_WORLD as communicator\n",
    "\n",
    "# Load data\n",
    "train_images = np.load('./data/train_images.npy')\n",
    "train_labels = np.load('./data/train_labels.npy')\n",
    "test_images = np.load('./data/test_images.npy')\n",
    "\n",
    "# Split the data\n",
    "# Select the array that is relevant for this rank\n",
    "split_arrays = np.array_split( test_images, communicator.size )\n",
    "small_test_images = split_arrays[ communicator.rank ]\n",
    "\n",
    "# Predict the results and gather it on rank 0\n",
    "small_test_labels = nearest_neighbor_prediction(small_test_images, train_images, train_labels)\n",
    "test_labels_list = communicator.gather( small_test_labels, root=0 )\n",
    "\n",
    "# Rank 0 merges the results into one array and saves them to a file\n",
    "if communicator.rank == 0:\n",
    "    test_labels = np.hstack( test_labels_list )\n",
    "    np.save('./data/test_labels_parallel.npy', test_labels )"
   ]
  },
  {
   "cell_type": "code",
   "execution_count": null,
   "metadata": {
    "collapsed": false
   },
   "outputs": [],
   "source": [
    "%%time\n",
    "! mpirun -np 4 python parallel_script.py"
   ]
  },
  {
   "cell_type": "markdown",
   "metadata": {},
   "source": [
    "---\n",
    "# Check the results"
   ]
  },
  {
   "cell_type": "code",
   "execution_count": null,
   "metadata": {
    "collapsed": false
   },
   "outputs": [],
   "source": [
    "# Load the data from the file\n",
    "test_images = np.load('data/test_images.npy')\n",
    "test_labels_parallel = np.load('data/test_labels_parallel.npy')\n",
    "\n",
    "# Define function to have a look at the data\n",
    "def show_random_digit( images, labels=None ):\n",
    "    \"\"\"\"Show a random image out of `images`, \n",
    "    with the corresponding label if available\"\"\"\n",
    "    i = np.random.randint(len(images))\n",
    "    image = images[i].reshape((28, 28))\n",
    "    plt.imshow( image, cmap='Greys' )\n",
    "    if labels is not None:\n",
    "        plt.title('Label: %d' %labels[i])"
   ]
  },
  {
   "cell_type": "code",
   "execution_count": null,
   "metadata": {
    "collapsed": false
   },
   "outputs": [],
   "source": [
    "show_random_digit( test_images, test_labels_parallel )"
   ]
  }
 ],
 "metadata": {
  "anaconda-cloud": {},
  "kernelspec": {
   "display_name": "Python 2",
   "language": "python",
   "name": "python2"
  },
  "language_info": {
   "codemirror_mode": {
    "name": "ipython",
    "version": 2
   },
   "file_extension": ".py",
   "mimetype": "text/x-python",
   "name": "python",
   "nbconvert_exporter": "python",
   "pygments_lexer": "ipython2",
   "version": "2.7.12"
  }
 },
 "nbformat": 4,
 "nbformat_minor": 1
}
