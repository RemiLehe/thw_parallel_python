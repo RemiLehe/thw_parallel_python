{
 "cells": [
  {
   "cell_type": "markdown",
   "metadata": {},
   "source": [
    "# A short tutorial for parallel programming in Python"
   ]
  },
  {
   "cell_type": "markdown",
   "metadata": {},
   "source": [
    "\n",
    "mpi4py | concurrent.futures \n",
    "------ | --- \n",
    "*Still* | `renders` \n",
    "1 | 2 "
   ]
  },
  {
   "cell_type": "markdown",
   "metadata": {},
   "source": [
    "To illustrate parallel programming, we will look at the problem of **classification of hand-written digits**, and use three different methods\n",
    "    \n",
    "- [Classification in serial](./Classification_serial.ipynb) (not parallel)\n",
    "- [Classification in parallel with `mpi4py`](./Classification_mpi4py.ipynb)\n",
    "- [Classification in parallel with `concurrent.futures`](./Classification_concurrent.ipynb)"
   ]
  },
  {
   "cell_type": "code",
   "execution_count": null,
   "metadata": {
    "collapsed": true
   },
   "outputs": [],
   "source": []
  }
 ],
 "metadata": {
  "kernelspec": {
   "display_name": "Python 2",
   "language": "python",
   "name": "python2"
  },
  "language_info": {
   "codemirror_mode": {
    "name": "ipython",
    "version": 2
   },
   "file_extension": ".py",
   "mimetype": "text/x-python",
   "name": "python",
   "nbconvert_exporter": "python",
   "pygments_lexer": "ipython2",
   "version": "2.7.12"
  }
 },
 "nbformat": 4,
 "nbformat_minor": 1
}
