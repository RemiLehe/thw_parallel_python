{
 "cells": [
  {
   "cell_type": "markdown",
   "metadata": {},
   "source": [
    "# A short tutorial for parallel programming in Python\n",
    "\n",
    "\n",
    "## Parallel hardware: nodes and cores\n",
    "\n",
    "Nowadays, the hardware is increasingly parallel:\n",
    "\n",
    "- Computers contain several **cores**, which can perform computation independently.\n",
    "- Large computer clusters contain several computers (often thousands), a.k.a **nodes**, connected by a fast network.\n",
    "\n",
    "![hardware](./tutorial_images/Hardware.png)\n",
    "\n",
    "Using several cores and/or several nodes can often:\n",
    "\n",
    "- **Speed up** the execution of time-consuming computations\n",
    "- Allow to work on data that is **too large** to fit in the RAM of one computer\n",
    "\n",
    "On the software side, this requires however to **share the computational work** among **processes** or **threads**.\n",
    "\n",
    "## Parallel execution: processes and threads\n",
    "\n",
    "Processes and threads are **independent execution** of code.  \n",
    "Each process or thread can be performed by a **separate core**, and can thus run **in parallel**.  \n",
    "The difference between them is that:\n",
    "\n",
    "- Threads can simulteaneously access and modify the **same memory space** in RAM.\n",
    "- Processes can only access and modify their **own, exclusive memory space**.\n",
    "\n",
    "![processes_and_threads](./tutorial_images/Processes_vs_threads.png)\n",
    "\n",
    "Thus, programming with threads is **more flexible** (e.g. two threads can simultaneously work on one same array) but also more **more dangerous** (e.g. two threads can simultaneously try to modify one given number in memory - in this case the result is undetermined).\n",
    "\n",
    "For this reason, Python **forbids** threads to simultaneously execute Python code (this is known as the Global Interpreter Lock, or **GIL**). There are however exceptions: I/O operations and `numpy` number crunching release the GIL, and can thus be executed simultaneously."
   ]
  },
  {
   "cell_type": "markdown",
   "metadata": {},
   "source": [
    "## Packages for parallel programming in Python\n",
    "\n",
    "There are many Python packages that handle parallel execution on processes or threads, both for **general purpose** (e.g. `celery`, `ipyparallel`, `multiprocessing`, ...) and **more specialized purpose** (e.g. `dask`, `tensorflow`, some `numpy` functions).   \n",
    "Here we will introduce two **very different**, and **complementary**, general-purpose packages: **`mpi4py`** and **`concurrent.futures`**.\n",
    "\n",
    "`mpi4py` | `concurrent.futures`\n",
    "------ | -----\n",
    "Can run on **several nodes** | Runs only on **one node** \n",
    "Only handles **processes** | Can handle **processes** and **threads** \n",
    "No interactivity | Some interactivity   (e.g. integrates in Jupyter notebook)\n",
    "Allows elaborate communications between processes | No communication between processes or threads"
   ]
  },
  {
   "cell_type": "markdown",
   "metadata": {},
   "source": [
    "---\n",
    "## Outline of this tutorial\n",
    "\n",
    "To illustrate parallel programming, we will look at the problem of **classification of hand-written digits**, and use three different methods\n",
    "    \n",
    "- [Classification in serial](./Classification_serial.ipynb) (not parallel)\n",
    "- [Classification in parallel with `mpi4py`](./Classification_mpi4py.ipynb)\n",
    "- [Classification in parallel with `concurrent.futures`](./Classification_futures.ipynb)"
   ]
  }
 ],
 "metadata": {
  "kernelspec": {
   "display_name": "Python 2",
   "language": "python",
   "name": "python2"
  },
  "language_info": {
   "codemirror_mode": {
    "name": "ipython",
    "version": 2
   },
   "file_extension": ".py",
   "mimetype": "text/x-python",
   "name": "python",
   "nbconvert_exporter": "python",
   "pygments_lexer": "ipython2",
   "version": "2.7.12"
  }
 },
 "nbformat": 4,
 "nbformat_minor": 1
}
