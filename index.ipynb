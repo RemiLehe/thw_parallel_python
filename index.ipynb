{
 "cells": [
  {
   "cell_type": "markdown",
   "metadata": {},
   "source": [
    "# A short tutorial for parallel programming in Python\n",
    "\n",
    "## Parallel hardware: nodes and cores\n",
    "\n",
    "## Parallel execution: processes and threads\n",
    "\n",
    "\n",
    "Threads: GIL does not allow parallel execution, but some numpy operation release the GIL."
   ]
  },
  {
   "cell_type": "markdown",
   "metadata": {},
   "source": [
    "## Packages for parallel programming in Python\n",
    "\n",
    "`mpi4py` | `concurrent.futures`\n",
    "------ | -----\n",
    "Can run on **several nodes** | Runs only on **one node** \n",
    "Only handles **processes** | Can handle **processes** and **threads** \n",
    "No interactivity | Some interactivity   (e.g. integrates in Jupyter notebook)\n",
    "Allows elaborate communications between processes | No communication between processes or threads"
   ]
  },
  {
   "cell_type": "markdown",
   "metadata": {},
   "source": [
    "To illustrate parallel programming, we will look at the problem of **classification of hand-written digits**, and use three different methods\n",
    "    \n",
    "- [Classification in serial](./Classification_serial.ipynb) (not parallel)\n",
    "- [Classification in parallel with `mpi4py`](./Classification_mpi4py.ipynb)\n",
    "- [Classification in parallel with `concurrent.futures`](./Classification_concurrent.ipynb)"
   ]
  }
 ],
 "metadata": {
  "kernelspec": {
   "display_name": "Python 2",
   "language": "python",
   "name": "python2"
  },
  "language_info": {
   "codemirror_mode": {
    "name": "ipython",
    "version": 2
   },
   "file_extension": ".py",
   "mimetype": "text/x-python",
   "name": "python",
   "nbconvert_exporter": "python",
   "pygments_lexer": "ipython2",
   "version": "2.7.12"
  }
 },
 "nbformat": 4,
 "nbformat_minor": 1
}
